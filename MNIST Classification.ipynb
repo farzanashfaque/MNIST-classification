{
 "cells": [
  {
   "cell_type": "code",
   "execution_count": null,
   "metadata": {},
   "outputs": [],
   "source": [
    "import torch \n",
    "import torchvision\n",
    "import torch.nn as nn\n",
    "import torch.nn.functional as F\n",
    "import torch.utils.data\n",
    "from torch.autograd import Variable\n",
    "import numpy as np\n",
    "from matplotlib import pyplot as plt\n",
    "\n",
    "device = 'cuda' "
   ]
  },
  {
   "cell_type": "code",
   "execution_count": null,
   "metadata": {},
   "outputs": [],
   "source": [
    "transform = torchvision.transforms.Compose([torchvision.transforms.ToTensor()])\n",
    "\n",
    "train_data = torchvision.datasets.MNIST(root = './data', train = True, download = True, transform = transform )\n",
    "\n",
    "test_data = torchvision.datasets.MNIST(root = './data',train = False ,download = True,  transform = transform)\n",
    "\n",
    " \n",
    "\n",
    "print(train_data)\n",
    "print(test_data)\n",
    "\n",
    "plt.imshow(np.asarray(train_data[1][0].reshape(28,28)))\n"
   ]
  },
  {
   "cell_type": "code",
   "execution_count": null,
   "metadata": {},
   "outputs": [],
   "source": [
    "BATCH_SIZE = 32 \n",
    "train_loader = torch.utils.data.DataLoader (train_data, batch_size = BATCH_SIZE, )\n",
    "test_loader = torch.utils.data.DataLoader (test_data, batch_size = 1, )\n",
    "\n",
    "print(train_loader)"
   ]
  },
  {
   "cell_type": "code",
   "execution_count": null,
   "metadata": {},
   "outputs": [],
   "source": [
    "class MyConvNet(nn.Module):\n",
    "  def __init__(self):\n",
    "    super(MyConvNet, self).__init__()\n",
    "    \n",
    "    self.conv1 = nn.Conv2d(1, 16, kernel_size=3, stride=1, padding=1)\n",
    "    self.conv2 = nn.Conv2d(16, 32, kernel_size=3, stride=1, padding=1)\n",
    "    self.conv3 = nn.Conv2d(32, 64, kernel_size=3, stride=1, padding=1)\n",
    "    self.conv4 = nn.Conv2d(64, 128, kernel_size=3, stride=1, padding=1)\n",
    "    self.fc1 = nn.Linear(7*7*128, 256)\n",
    "    self.fc2 = nn.Linear(256, 10)\n",
    "    self.maxpool = nn.MaxPool2d(kernel_size=2, stride=2)\n",
    "   \n",
    "    #__end\n",
    "  def forward (self, x):\n",
    "    \n",
    "    x = F.relu(self.conv1(x))\n",
    "    x = F.relu(self.conv2(x))\n",
    "    x = self.maxpool(x)\n",
    "    x = F.relu(self.conv3(x))\n",
    "    x = F.relu(self.conv4(x))\n",
    "    x = self.maxpool(x)\n",
    "    x = x.view(-1,7*7*128)\n",
    "    x = F.relu(self.fc1(x))\n",
    "    x = self.fc2(x)\n",
    "\n",
    "    return F.softmax(x, dim = 1) \n"
   ]
  },
  {
   "cell_type": "code",
   "execution_count": null,
   "metadata": {},
   "outputs": [],
   "source": [
    "net = MyConvNet()\n",
    "net.to(device)\n",
    "print(net)\n",
    "tld = iter(train_loader)\n",
    "im = next(tld)[0].to(device)\n",
    "print ('Size of the output tensor:' ,net.forward(im).size())\n",
    "print (net.forward(im))"
   ]
  },
  {
   "cell_type": "code",
   "execution_count": null,
   "metadata": {},
   "outputs": [],
   "source": [
    "def train(model, train_loader, EPOCHS = 6, lossF = None):\n",
    "  \n",
    "  if lossF == None:\n",
    "    lossF = nn.CrossEntropyLoss()  \n",
    "  \n",
    "  optim = torch.optim.Adam (model.parameters(), lr = 4e-4, weight_decay=1e-3) \n",
    "  \n",
    "  model.train() \n",
    "  \n",
    "  for epoch in range(EPOCHS):\n",
    "    correct = 0\n",
    "    for batch_idx, (X_batch, y_batch) in enumerate(train_loader):\n",
    "      \n",
    "      #Move data to device\n",
    "      var_X_batch = Variable(X_batch).to(device) \n",
    "      var_y_batch = Variable(y_batch).to(device)\n",
    "    \n",
    "      output = model(var_X_batch)\n",
    "      \n",
    "      loss = lossF (output, var_y_batch)\n",
    "      \n",
    "      loss.backward()\n",
    "      \n",
    "      optim.step()\n",
    "      optim.zero_grad() \n",
    "\n",
    "      predicted = torch.max(output.data, axis = 1).indices\n",
    "\n",
    "      #Calculate the number of correct predictions in a batch\n",
    "      correct += (predicted == var_y_batch).sum()\n",
    "\n",
    "      if (batch_idx % 200) == 0:\n",
    "          print('Epoch : {} [{}/{} ({:.0f}%)]\\tLoss: {:.6f}\\t Accuracy:{:.3f}%'.format(\n",
    "                    epoch, batch_idx*len(X_batch), len(train_loader.dataset), 100.*batch_idx / len(train_loader), loss.item(), float(correct*100) / float(BATCH_SIZE*(batch_idx+1))))\n",
    "\n",
    "\n",
    "\n",
    "def test(model, test_loader):\n",
    "    \n",
    "    correct = 0 \n",
    "    \n",
    "    for X,y in test_loader:\n",
    "      X = Variable(X).to(device) \n",
    "      y = Variable(y).to(device) \n",
    "      output = model(X)\n",
    "      predictions = torch.max(output.data,axis =1).indices\n",
    "      correct += (predictions == y).sum()\n",
    "  \n",
    "    print(\"Test accuracy:{:.3f}% \".format( float(correct * 100) / (len(test_loader))))\n"
   ]
  },
  {
   "cell_type": "code",
   "execution_count": null,
   "metadata": {},
   "outputs": [],
   "source": [
    "train (net, train_loader, EPOCHS = 5)"
   ]
  },
  {
   "cell_type": "code",
   "execution_count": null,
   "metadata": {},
   "outputs": [],
   "source": [
    "test(net, test_loader)"
   ]
  },
  {
   "cell_type": "markdown",
   "metadata": {},
   "source": [
    "Visualization of features learnt by the model"
   ]
  },
  {
   "cell_type": "code",
   "execution_count": null,
   "metadata": {},
   "outputs": [],
   "source": [
    "def train_im(model, digit = 7 ,iters = 1000, lossF = None):\n",
    "\n",
    "  im = torch.zeros_like(train_data[1][0]).view(1, 1, 28, 28).to(device)\n",
    "  im = Variable(im, requires_grad = True)\n",
    "  digit = Variable(torch.tensor(digit)).to(device).view(1)\n",
    "  \n",
    "  lossfunc = nn.CrossEntropyLoss()\n",
    "  optimizer = torch.optim.Adam ([im,], lr = 4e-4, weight_decay=1e-3) \n",
    "  \n",
    "  for i in range(iters):\n",
    "    output = model(im)\n",
    "    loss = lossfunc(output, digit)\n",
    "    loss.backward()\n",
    "    optimizer.step()\n",
    "    optimizer.zero_grad()\n",
    "    \n",
    "  return im"
   ]
  },
  {
   "cell_type": "code",
   "execution_count": null,
   "metadata": {},
   "outputs": [],
   "source": [
    "for i in range (10):\n",
    "  im = train_im (net, digit=i, iters=1000)\n",
    "  im = np.asarray(im.view(28, 28).cpu().detach())\n",
    "  print (i)\n",
    "  plt.imshow(im)\n",
    "  plt.show()"
   ]
  }
 ],
 "metadata": {
  "kernelspec": {
   "display_name": "Python 3",
   "language": "python",
   "name": "python3"
  },
  "language_info": {
   "codemirror_mode": {
    "name": "ipython",
    "version": 3
   },
   "file_extension": ".py",
   "mimetype": "text/x-python",
   "name": "python",
   "nbconvert_exporter": "python",
   "pygments_lexer": "ipython3",
   "version": "3.7.2"
  }
 },
 "nbformat": 4,
 "nbformat_minor": 4
}
